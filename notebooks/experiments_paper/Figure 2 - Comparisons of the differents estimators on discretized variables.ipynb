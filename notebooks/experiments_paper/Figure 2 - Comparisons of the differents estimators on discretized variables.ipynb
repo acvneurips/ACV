{
 "cells": [
  {
   "cell_type": "code",
   "execution_count": 1,
   "id": "computational-concert",
   "metadata": {},
   "outputs": [],
   "source": [
    "import warnings\n",
    "warnings.filterwarnings('ignore')\n",
    "\n",
    "from acv_explainers import ACVTree\n",
    "import shap\n",
    "\n",
    "import matplotlib.pyplot as plt\n",
    "from sklearn.preprocessing import OneHotEncoder\n",
    "from sklearn.model_selection import train_test_split\n",
    "from sklearn.ensemble import RandomForestClassifier\n",
    "from sklearn.tree import DecisionTreeClassifier\n",
    "from sklearn.metrics import roc_auc_score\n",
    "from xgboost import XGBRFClassifier, XGBClassifier, XGBRegressor\n",
    "import random \n",
    "import time \n",
    "import numpy as np\n",
    "import pandas as pd\n",
    "import seaborn as sns\n",
    "from scipy.special import comb\n",
    "\n",
    "random.seed(2021)\n",
    "np.random.seed(2021)\n",
    "\n",
    "from experiments.exp_linear import *\n",
    "\n",
    "# Fixed the seed and plot env\n",
    "random.seed(1)\n",
    "np.random.seed(1)\n",
    "\n",
    "plt.style.use(['ggplot'])"
   ]
  },
  {
   "cell_type": "markdown",
   "id": "df088cf6",
   "metadata": {},
   "source": [
    "# Create synthetic data and train RandomForest"
   ]
  },
  {
   "cell_type": "code",
   "execution_count": 2,
   "id": "illegal-profile",
   "metadata": {},
   "outputs": [
    {
     "name": "stdout",
     "output_type": "stream",
     "text": [
      "Coefficients of the Linear regression are = [ 6.49738145 -2.44702565  0.        ]\n"
     ]
    }
   ],
   "source": [
    "p = 0.7\n",
    "n = 10000\n",
    "d = 3\n",
    "mean = np.zeros(d)\n",
    "# Determinitist covariance\n",
    "cov = p*np.ones(shape=(d, d)) - (p - 1)*np.eye(d)\n",
    "C = [[]]\n",
    "\n",
    "# Random covariance\n",
    "# b = np.random.randn(d, d)\n",
    "# cov = np.dot(b, b.T)\n",
    "\n",
    "# covariance\n",
    "coefs = 4*np.random.randn(d)\n",
    "model_type = 'linear'\n",
    "k = 2\n",
    "coefs[k:] = 0\n",
    "\n",
    "exp = ExperimentsLinear(mean=mean, cov=cov, coefs=coefs, n=n, C=C)\n",
    "data = exp.data\n",
    "print('Coefficients of the Linear regression are = {}'.format(coefs))"
   ]
  },
  {
   "cell_type": "code",
   "execution_count": 3,
   "id": "documentary-aging",
   "metadata": {},
   "outputs": [
    {
     "name": "stdout",
     "output_type": "stream",
     "text": [
      "TEST SET MSE Withou Discretization = 0.087192708328192\n"
     ]
    }
   ],
   "source": [
    "# model = XGBRegressor()\n",
    "model = RandomForestRegressor(n_estimators=1)\n",
    "model.fit(exp.data, exp.y_train)\n",
    "\n",
    "print('TEST SET MSE Withou Discretization = {}'.format(mean_squared_error(model.predict(exp.data_test), exp.y_test)))"
   ]
  },
  {
   "cell_type": "markdown",
   "id": "ebae5258",
   "metadata": {},
   "source": [
    "# Discritized the Data (nb of quantile = 9)"
   ]
  },
  {
   "cell_type": "code",
   "execution_count": 4,
   "id": "e2af618b",
   "metadata": {},
   "outputs": [
    {
     "data": {
      "text/html": [
       "<div>\n",
       "<style scoped>\n",
       "    .dataframe tbody tr th:only-of-type {\n",
       "        vertical-align: middle;\n",
       "    }\n",
       "\n",
       "    .dataframe tbody tr th {\n",
       "        vertical-align: top;\n",
       "    }\n",
       "\n",
       "    .dataframe thead th {\n",
       "        text-align: right;\n",
       "    }\n",
       "</style>\n",
       "<table border=\"1\" class=\"dataframe\">\n",
       "  <thead>\n",
       "    <tr style=\"text-align: right;\">\n",
       "      <th></th>\n",
       "      <th>X0</th>\n",
       "      <th>X1</th>\n",
       "      <th>X2</th>\n",
       "    </tr>\n",
       "  </thead>\n",
       "  <tbody>\n",
       "    <tr>\n",
       "      <th>0</th>\n",
       "      <td>1.318085</td>\n",
       "      <td>-1.232146</td>\n",
       "      <td>0.859148</td>\n",
       "    </tr>\n",
       "    <tr>\n",
       "      <th>1</th>\n",
       "      <td>-1.045707</td>\n",
       "      <td>-0.514316</td>\n",
       "      <td>-0.938388</td>\n",
       "    </tr>\n",
       "    <tr>\n",
       "      <th>2</th>\n",
       "      <td>0.151569</td>\n",
       "      <td>0.939997</td>\n",
       "      <td>0.153231</td>\n",
       "    </tr>\n",
       "    <tr>\n",
       "      <th>3</th>\n",
       "      <td>-0.307866</td>\n",
       "      <td>0.158282</td>\n",
       "      <td>-0.042149</td>\n",
       "    </tr>\n",
       "    <tr>\n",
       "      <th>4</th>\n",
       "      <td>0.935535</td>\n",
       "      <td>2.141554</td>\n",
       "      <td>0.398498</td>\n",
       "    </tr>\n",
       "  </tbody>\n",
       "</table>\n",
       "</div>"
      ],
      "text/plain": [
       "         X0        X1        X2\n",
       "0  1.318085 -1.232146  0.859148\n",
       "1 -1.045707 -0.514316 -0.938388\n",
       "2  0.151569  0.939997  0.153231\n",
       "3 -0.307866  0.158282 -0.042149\n",
       "4  0.935535  2.141554  0.398498"
      ]
     },
     "execution_count": 4,
     "metadata": {},
     "output_type": "execute_result"
    }
   ],
   "source": [
    "columns_name = ['X{}'.format(i) for i in range(d)]\n",
    "data = pd.DataFrame(exp.data, columns=columns_name)\n",
    "data_test = pd.DataFrame(exp.data_test, columns=columns_name)\n",
    "data_test.head()"
   ]
  },
  {
   "cell_type": "code",
   "execution_count": 5,
   "id": "matched-expense",
   "metadata": {},
   "outputs": [
    {
     "data": {
      "text/html": [
       "<div>\n",
       "<style scoped>\n",
       "    .dataframe tbody tr th:only-of-type {\n",
       "        vertical-align: middle;\n",
       "    }\n",
       "\n",
       "    .dataframe tbody tr th {\n",
       "        vertical-align: top;\n",
       "    }\n",
       "\n",
       "    .dataframe thead th {\n",
       "        text-align: right;\n",
       "    }\n",
       "</style>\n",
       "<table border=\"1\" class=\"dataframe\">\n",
       "  <thead>\n",
       "    <tr style=\"text-align: right;\">\n",
       "      <th></th>\n",
       "      <th>X0: q0.0-q0.12</th>\n",
       "      <th>X0: q0.12-q0.25</th>\n",
       "      <th>X0: q0.25-q0.38</th>\n",
       "      <th>X0: q0.38-q0.5</th>\n",
       "      <th>X0: q0.5-q0.62</th>\n",
       "      <th>X0: q0.62-q0.75</th>\n",
       "      <th>X0: q0.75-q0.88</th>\n",
       "      <th>X0: q0.88-q1.0</th>\n",
       "      <th>X1: q0.0-q0.12</th>\n",
       "      <th>X1: q0.12-q0.25</th>\n",
       "      <th>...</th>\n",
       "      <th>X1: q0.75-q0.88</th>\n",
       "      <th>X1: q0.88-q1.0</th>\n",
       "      <th>X2: q0.0-q0.12</th>\n",
       "      <th>X2: q0.12-q0.25</th>\n",
       "      <th>X2: q0.25-q0.38</th>\n",
       "      <th>X2: q0.38-q0.5</th>\n",
       "      <th>X2: q0.5-q0.62</th>\n",
       "      <th>X2: q0.62-q0.75</th>\n",
       "      <th>X2: q0.75-q0.88</th>\n",
       "      <th>X2: q0.88-q1.0</th>\n",
       "    </tr>\n",
       "  </thead>\n",
       "  <tbody>\n",
       "    <tr>\n",
       "      <th>0</th>\n",
       "      <td>0</td>\n",
       "      <td>0</td>\n",
       "      <td>0</td>\n",
       "      <td>0</td>\n",
       "      <td>0</td>\n",
       "      <td>0</td>\n",
       "      <td>0</td>\n",
       "      <td>1</td>\n",
       "      <td>1</td>\n",
       "      <td>0</td>\n",
       "      <td>...</td>\n",
       "      <td>0</td>\n",
       "      <td>0</td>\n",
       "      <td>0</td>\n",
       "      <td>0</td>\n",
       "      <td>0</td>\n",
       "      <td>0</td>\n",
       "      <td>0</td>\n",
       "      <td>0</td>\n",
       "      <td>1</td>\n",
       "      <td>0</td>\n",
       "    </tr>\n",
       "    <tr>\n",
       "      <th>1</th>\n",
       "      <td>0</td>\n",
       "      <td>1</td>\n",
       "      <td>0</td>\n",
       "      <td>0</td>\n",
       "      <td>0</td>\n",
       "      <td>0</td>\n",
       "      <td>0</td>\n",
       "      <td>0</td>\n",
       "      <td>0</td>\n",
       "      <td>0</td>\n",
       "      <td>...</td>\n",
       "      <td>0</td>\n",
       "      <td>0</td>\n",
       "      <td>0</td>\n",
       "      <td>1</td>\n",
       "      <td>0</td>\n",
       "      <td>0</td>\n",
       "      <td>0</td>\n",
       "      <td>0</td>\n",
       "      <td>0</td>\n",
       "      <td>0</td>\n",
       "    </tr>\n",
       "    <tr>\n",
       "      <th>2</th>\n",
       "      <td>0</td>\n",
       "      <td>0</td>\n",
       "      <td>0</td>\n",
       "      <td>0</td>\n",
       "      <td>1</td>\n",
       "      <td>0</td>\n",
       "      <td>0</td>\n",
       "      <td>0</td>\n",
       "      <td>0</td>\n",
       "      <td>0</td>\n",
       "      <td>...</td>\n",
       "      <td>1</td>\n",
       "      <td>0</td>\n",
       "      <td>0</td>\n",
       "      <td>0</td>\n",
       "      <td>0</td>\n",
       "      <td>0</td>\n",
       "      <td>1</td>\n",
       "      <td>0</td>\n",
       "      <td>0</td>\n",
       "      <td>0</td>\n",
       "    </tr>\n",
       "    <tr>\n",
       "      <th>3</th>\n",
       "      <td>0</td>\n",
       "      <td>0</td>\n",
       "      <td>1</td>\n",
       "      <td>0</td>\n",
       "      <td>0</td>\n",
       "      <td>0</td>\n",
       "      <td>0</td>\n",
       "      <td>0</td>\n",
       "      <td>0</td>\n",
       "      <td>0</td>\n",
       "      <td>...</td>\n",
       "      <td>0</td>\n",
       "      <td>0</td>\n",
       "      <td>0</td>\n",
       "      <td>0</td>\n",
       "      <td>0</td>\n",
       "      <td>1</td>\n",
       "      <td>0</td>\n",
       "      <td>0</td>\n",
       "      <td>0</td>\n",
       "      <td>0</td>\n",
       "    </tr>\n",
       "    <tr>\n",
       "      <th>4</th>\n",
       "      <td>0</td>\n",
       "      <td>0</td>\n",
       "      <td>0</td>\n",
       "      <td>0</td>\n",
       "      <td>0</td>\n",
       "      <td>0</td>\n",
       "      <td>1</td>\n",
       "      <td>0</td>\n",
       "      <td>0</td>\n",
       "      <td>0</td>\n",
       "      <td>...</td>\n",
       "      <td>0</td>\n",
       "      <td>1</td>\n",
       "      <td>0</td>\n",
       "      <td>0</td>\n",
       "      <td>0</td>\n",
       "      <td>0</td>\n",
       "      <td>0</td>\n",
       "      <td>1</td>\n",
       "      <td>0</td>\n",
       "      <td>0</td>\n",
       "    </tr>\n",
       "  </tbody>\n",
       "</table>\n",
       "<p>5 rows × 24 columns</p>\n",
       "</div>"
      ],
      "text/plain": [
       "   X0: q0.0-q0.12  X0: q0.12-q0.25  X0: q0.25-q0.38  X0: q0.38-q0.5  \\\n",
       "0               0                0                0               0   \n",
       "1               0                1                0               0   \n",
       "2               0                0                0               0   \n",
       "3               0                0                1               0   \n",
       "4               0                0                0               0   \n",
       "\n",
       "   X0: q0.5-q0.62  X0: q0.62-q0.75  X0: q0.75-q0.88  X0: q0.88-q1.0  \\\n",
       "0               0                0                0               1   \n",
       "1               0                0                0               0   \n",
       "2               1                0                0               0   \n",
       "3               0                0                0               0   \n",
       "4               0                0                1               0   \n",
       "\n",
       "   X1: q0.0-q0.12  X1: q0.12-q0.25  ...  X1: q0.75-q0.88  X1: q0.88-q1.0  \\\n",
       "0               1                0  ...                0               0   \n",
       "1               0                0  ...                0               0   \n",
       "2               0                0  ...                1               0   \n",
       "3               0                0  ...                0               0   \n",
       "4               0                0  ...                0               1   \n",
       "\n",
       "   X2: q0.0-q0.12  X2: q0.12-q0.25  X2: q0.25-q0.38  X2: q0.38-q0.5  \\\n",
       "0               0                0                0               0   \n",
       "1               0                1                0               0   \n",
       "2               0                0                0               0   \n",
       "3               0                0                0               1   \n",
       "4               0                0                0               0   \n",
       "\n",
       "   X2: q0.5-q0.62  X2: q0.62-q0.75  X2: q0.75-q0.88  X2: q0.88-q1.0  \n",
       "0               0                0                1               0  \n",
       "1               0                0                0               0  \n",
       "2               1                0                0               0  \n",
       "3               0                0                0               0  \n",
       "4               0                1                0               0  \n",
       "\n",
       "[5 rows x 24 columns]"
      ]
     },
     "execution_count": 5,
     "metadata": {},
     "output_type": "execute_result"
    }
   ],
   "source": [
    "q = 9\n",
    "\n",
    "data_cat, q_values = quantile_discretizer(data, q, [])\n",
    "data_cat.head()\n",
    "\n",
    "data_cat_test = quantile_discretizer_byq(data_test, [], q_values)\n",
    "data_cat_test.columns = data_cat.columns \n",
    "data_cat_test.head()"
   ]
  },
  {
   "cell_type": "code",
   "execution_count": 6,
   "id": "narrow-daniel",
   "metadata": {},
   "outputs": [
    {
     "name": "stdout",
     "output_type": "stream",
     "text": [
      "TEST SET MSE = 2.8800937779490066\n"
     ]
    }
   ],
   "source": [
    "# model_cat = XGBRegressor()\n",
    "model_cat = RandomForestRegressor(n_estimators=1, max_depth=8)\n",
    "model_cat.fit(data_cat, exp.y_train)\n",
    "\n",
    "print('TEST SET MSE = {}'.format(mean_squared_error(model_cat.predict(data_cat_test), exp.y_test)))"
   ]
  },
  {
   "cell_type": "markdown",
   "id": "affected-pitch",
   "metadata": {},
   "source": [
    "# Build ACVTree"
   ]
  },
  {
   "cell_type": "code",
   "execution_count": 7,
   "id": "comprehensive-infrared",
   "metadata": {},
   "outputs": [
    {
     "name": "stderr",
     "output_type": "stream",
     "text": [
      "100%|██████████| 1/1 [00:00<00:00, 54.29it/s]\n"
     ]
    }
   ],
   "source": [
    "acvtree_cat = ACVTree(model_cat, data_cat.values)"
   ]
  },
  {
   "cell_type": "code",
   "execution_count": 8,
   "id": "e7e1e14f",
   "metadata": {},
   "outputs": [],
   "source": [
    "# Tree SHAP with coalition\n",
    "\n",
    "def shap_exp(tree, S, x):\n",
    "    tree_ind = 0\n",
    "\n",
    "    def R(node_ind):\n",
    "\n",
    "        f = tree.features[tree_ind, node_ind]\n",
    "        lc = tree.children_left[tree_ind, node_ind]\n",
    "        rc = tree.children_right[tree_ind, node_ind]\n",
    "        if lc < 0:\n",
    "            return tree.values[tree_ind, node_ind]\n",
    "        if f in S:\n",
    "            if x[f] <= tree.thresholds[tree_ind, node_ind]:\n",
    "                return R(lc)\n",
    "            return R(rc)\n",
    "        lw = tree.node_sample_weight[tree_ind, lc]\n",
    "        rw = tree.node_sample_weight[tree_ind, rc]\n",
    "        return (R(lc) * lw + R(rc) * rw) / (lw + rw)\n",
    "\n",
    "    out = 0.0\n",
    "    l = tree.values.shape[0] if tree.tree_limit is None else tree.tree_limit\n",
    "    for i in range(l):\n",
    "        tree_ind = i\n",
    "        out += R(0)\n",
    "    return out\n",
    "\n",
    "def shap_cond_exp(X, S, tree):\n",
    "    cond = np.zeros((X.shape[0], tree.values.shape[2]))\n",
    "    for i in range(X.shape[0]):\n",
    "        cond[i] = shap_exp(x=X[i], S=S, tree=tree)\n",
    "    return cond\n",
    "\n",
    "def tree_shap_cat(X, C, tree):\n",
    "    N = X.shape[0]\n",
    "    m = X.shape[1]\n",
    "    va_id = list(range(m))\n",
    "    va_buffer = va_id.copy()\n",
    "    \n",
    "    if C[0] != []:\n",
    "        for c in C:\n",
    "            m -= len(c)\n",
    "            va_id = list(set(va_id) - set(c))\n",
    "        m += len(C)\n",
    "        for c in C:\n",
    "            va_id += [c]\n",
    "\n",
    "    phi = np.zeros(shape=(X.shape[0], X.shape[1], tree.values.shape[2]))\n",
    "\n",
    "    for i in tqdm(va_id):\n",
    "        Sm = list(set(va_buffer) - set(convert_list(i)))\n",
    "\n",
    "        if C[0] != []:\n",
    "            buffer_Sm = Sm.copy()\n",
    "            for c in C:\n",
    "                if set(c).issubset(buffer_Sm):\n",
    "                    Sm = list(set(Sm) - set(c))\n",
    "            for c in C:\n",
    "                if set(c).issubset(buffer_Sm):\n",
    "                    Sm += [c]\n",
    "\n",
    "        for S in powerset(Sm):\n",
    "            weight = comb(m - 1, len(S)) ** (-1)\n",
    "            v_plus = shap_cond_exp(X=X, S=np.array(chain_l(S) + convert_list(i)).astype(int), tree=tree)\n",
    "            v_minus = shap_cond_exp(X=X, S=np.array(chain_l(S)).astype(int), tree=tree)\n",
    "\n",
    "            for j in convert_list(i):\n",
    "                phi[:, j] += weight * (v_plus - v_minus)\n",
    "\n",
    "    return phi / m\n"
   ]
  },
  {
   "cell_type": "markdown",
   "id": "56f1755a",
   "metadata": {},
   "source": [
    "## Sample data for explanations"
   ]
  },
  {
   "cell_type": "code",
   "execution_count": 9,
   "id": "promising-amendment",
   "metadata": {},
   "outputs": [],
   "source": [
    "n_gen = 100000\n",
    "exp2 = ExperimentsLinear(mean=mean, cov=cov, coefs=coefs, n=n_gen, C=C)\n",
    "\n",
    "columns_name = ['X{}'.format(i) for i in range(d)]\n",
    "data2 = pd.DataFrame(exp2.data, columns=columns_name)\n",
    "data_test2 = pd.DataFrame(exp2.data_test, columns=columns_name)\n",
    "\n",
    "data_cat2 = quantile_discretizer_byq(data2, [], q_values)\n",
    "data_cat2.columns = data_cat.columns\n",
    "\n",
    "data_cat_test2 = quantile_discretizer_byq(data_test2, [], q_values)\n",
    "data_cat_test2.columns = data_cat.columns\n",
    "\n",
    "data_gen = np.array(data2, dtype=np.float)\n",
    "data_cat_gen = np.array(data_cat2, dtype=np.float)\n",
    "\n",
    "data_cat_np = np.array(data_cat, dtype=np.float)\n",
    "data_np = np.array(data, dtype=np.float)"
   ]
  },
  {
   "cell_type": "code",
   "execution_count": 10,
   "id": "b63e7b34",
   "metadata": {},
   "outputs": [],
   "source": [
    "# Uniform data\n",
    "n_gen = 50000\n",
    "\n",
    "columns_name = ['X{}'.format(i) for i in range(d)]\n",
    "data_unif =  np.random.uniform(low=-10, high=10, size=n_gen*d)\n",
    "data_unif = data_unif.reshape((n_gen, d))\n",
    "data_unif = pd.DataFrame(data_unif, columns=columns_name)\n",
    "\n",
    "\n",
    "data_cat_unif = quantile_discretizer_byq(data_unif, [], q_values)\n",
    "data_cat_unif.columns = data_cat.columns"
   ]
  },
  {
   "cell_type": "code",
   "execution_count": 11,
   "id": "bf62cac7",
   "metadata": {},
   "outputs": [],
   "source": [
    "nb = 500\n",
    "C = []\n",
    "for i in range(d):\n",
    "    c = []\n",
    "    for j in range(q-1):\n",
    "        c.append(i*(q-1) + j)\n",
    "    C.append(c)"
   ]
  },
  {
   "cell_type": "code",
   "execution_count": 12,
   "id": "cf11f611",
   "metadata": {},
   "outputs": [
    {
     "data": {
      "text/plain": [
       "'Indices of the variables group together = [[0, 1, 2, 3, 4, 5, 6, 7], [8, 9, 10, 11, 12, 13, 14, 15], [16, 17, 18, 19, 20, 21, 22, 23]]'"
      ]
     },
     "execution_count": 12,
     "metadata": {},
     "output_type": "execute_result"
    }
   ],
   "source": [
    "'Indices of the variables group together = {}'.format(C)"
   ]
  },
  {
   "cell_type": "markdown",
   "id": "65b6a0ae",
   "metadata": {},
   "source": [
    "## Compute SV with the different estimators"
   ]
  },
  {
   "cell_type": "code",
   "execution_count": 13,
   "id": "4f51e2db",
   "metadata": {},
   "outputs": [
    {
     "name": "stderr",
     "output_type": "stream",
     "text": [
      "100%|██████████| 3/3 [00:15<00:00,  5.16s/it]\n"
     ]
    }
   ],
   "source": [
    "plug_sv = acvtree_cat.py_shap_values_discrete_notoptimized(data_cat_gen[:nb], C=C, data=data_cat.values.astype(float))"
   ]
  },
  {
   "cell_type": "code",
   "execution_count": 14,
   "id": "115b2400",
   "metadata": {},
   "outputs": [
    {
     "name": "stderr",
     "output_type": "stream",
     "text": [
      "100%|██████████| 3/3 [00:00<00:00,  9.65it/s]\n"
     ]
    }
   ],
   "source": [
    "plug_sv_leaf = acvtree_cat.py_shap_values_notoptimized(data_cat_gen[:nb], C=C, data=data_cat.values.astype(float))"
   ]
  },
  {
   "cell_type": "code",
   "execution_count": 15,
   "id": "aa560766",
   "metadata": {},
   "outputs": [
    {
     "name": "stderr",
     "output_type": "stream",
     "text": [
      "100%|██████████| 3/3 [02:48<00:00, 56.08s/it]\n"
     ]
    }
   ],
   "source": [
    "q_arr = np.array(list(q_values.values()))\n",
    "mc_sv = tree_sv_exact_discretized(data_cat_gen[:nb], acvtree_cat, q_arr, q_values, C, mean, cov, N=1000000)"
   ]
  },
  {
   "cell_type": "code",
   "execution_count": 16,
   "id": "6774a1a6",
   "metadata": {},
   "outputs": [
    {
     "name": "stderr",
     "output_type": "stream",
     "text": [
      "100%|██████████| 3/3 [00:03<00:00,  1.18s/it]\n"
     ]
    }
   ],
   "source": [
    "shap_sv = tree_shap_cat(X=data_cat_gen[:nb], C=C, tree=acvtree_cat)"
   ]
  },
  {
   "cell_type": "code",
   "execution_count": 17,
   "id": "1d1f1043",
   "metadata": {},
   "outputs": [
    {
     "data": {
      "image/png": "[encoded data removed]",
      "text/plain": [
       "<Figure size 900x600 with 1 Axes>"
      ]
     },
     "metadata": {},
     "output_type": "display_data"
    }
   ],
   "source": [
    "plug_sv = plug_sv.squeeze()\n",
    "plug_sv_leaf = plug_sv_leaf.squeeze()\n",
    "shap_sv = shap_sv.squeeze()\n",
    "mc_sv = mc_sv.squeeze()\n",
    "plug_sv_r = np.zeros(shape=mc_sv.shape)\n",
    "shap_sv_r = np.zeros(shape=mc_sv.shape)\n",
    "plug_sv_leaf_r = np.zeros(shape=mc_sv.shape)\n",
    "for i in range(d):\n",
    "    plug_sv_r[:, i] = plug_sv[:, C[i][0]]\n",
    "    shap_sv_r[:, i] = shap_sv[:, C[i][0]]\n",
    "    plug_sv_leaf_r[:, i] = plug_sv_leaf[:, C[i][0]]\n",
    "\n",
    "sample_data = np.concatenate([shap_sv_r, plug_sv_r, plug_sv_leaf_r], axis=0)\n",
    "\n",
    "shap_dataFra = pd.DataFrame(data=sample_data.squeeze())\n",
    "shap_dataFra['estimators'] = nb * ['Tree SHAP'] + nb * ['Discrete'] + nb * ['Leaf']\n",
    "\n",
    "relative = np.zeros(shape=mc_sv.shape)\n",
    "for i in range(mc_sv.shape[0]):\n",
    "    for j in range(mc_sv.shape[1]):\n",
    "        if np.abs(mc_sv[i, j]) < 1:\n",
    "            relative[i, j] = 1\n",
    "        else:\n",
    "            relative[i, j] = mc_sv[i, j]\n",
    "            \n",
    "err_monte_carlo = l1_norm((mc_sv- mc_sv)/relative)\n",
    "err_plugin = l1_norm((plug_sv_r - mc_sv)/relative)\n",
    "err_shap = l1_norm((shap_sv_r - mc_sv)/relative)\n",
    "err_plugin_leaf = l1_norm((plug_sv_leaf_r - mc_sv)/relative)\n",
    "err_concat = np.concatenate([err_shap, err_plugin, err_plugin_leaf], axis=0)\n",
    "shap_dataFra['R-MAE'] = err_concat\n",
    "\n",
    "plot = True\n",
    "if plot:\n",
    "    fig, ax = plt.subplots(dpi=150)\n",
    "    sns.boxplot(data=shap_dataFra, x='estimators', y='R-MAE')"
   ]
  },
  {
   "cell_type": "code",
   "execution_count": 18,
   "id": "597214aa",
   "metadata": {},
   "outputs": [
    {
     "data": {
      "text/plain": [
       "(1500, 5)"
      ]
     },
     "execution_count": 18,
     "metadata": {},
     "output_type": "execute_result"
    }
   ],
   "source": [
    "shap_dataFra.replace([np.inf, -np.inf], np.nan, inplace=True)\n",
    "shap_dataFra.dropna(axis=0, inplace=True)\n",
    "shap_dataFra.shape"
   ]
  },
  {
   "cell_type": "code",
   "execution_count": 19,
   "id": "eabe4e81",
   "metadata": {},
   "outputs": [
    {
     "data": {
      "text/plain": [
       "<AxesSubplot:xlabel='estimators', ylabel='R-MAE'>"
      ]
     },
     "execution_count": 19,
     "metadata": {},
     "output_type": "execute_result"
    },
    {
     "data": {
      "image/png": "[encoded data removed]",
      "text/plain": [
       "<Figure size 900x600 with 1 Axes>"
      ]
     },
     "metadata": {},
     "output_type": "display_data"
    }
   ],
   "source": [
    "fig, ax = plt.subplots(dpi=150)\n",
    "sns.barplot(data=shap_dataFra, x='estimators', y='R-MAE')"
   ]
  },
  {
   "cell_type": "code",
   "execution_count": 20,
   "id": "b67d43b2",
   "metadata": {},
   "outputs": [
    {
     "name": "stdout",
     "output_type": "stream",
     "text": [
      "err_shap = 2.927742478152098 -- err_plugin = 0.2067622873051523 - err_leaf = 0.9540416497730656\n"
     ]
    }
   ],
   "source": [
    "print('err_shap = {} -- err_plugin = {} - err_leaf = {}'.format(np.mean(err_shap), np.mean(err_plugin),\n",
    "                                                                np.mean(err_plugin_leaf)))"
   ]
  },
  {
   "cell_type": "code",
   "execution_count": 21,
   "id": "8cb9764c",
   "metadata": {},
   "outputs": [],
   "source": [
    "from experiments import utils\n",
    "\n",
    "mc_sv = mc_sv.squeeze()\n",
    "shap_sv = shap_sv_r.squeeze()\n",
    "plug_sv = plug_sv_r.squeeze()\n",
    "plug_sv_leaf = plug_sv_leaf_r.squeeze()\n",
    "\n",
    "def return_fi(sv, k=1):\n",
    "    fi = np.zeros(shape=sv.shape)\n",
    "    argsort = np.argsort(sv, axis=1)\n",
    "    for i in range(argsort.shape[0]):\n",
    "        for j in range(k):\n",
    "            fi[i, argsort[i, j]] = 1 \n",
    "    return fi\n",
    "\n",
    "fi_mc = return_fi(mc_sv)\n",
    "fi_shap = return_fi(shap_sv)\n",
    "fi_plug = return_fi(plug_sv)\n",
    "fi_plug_leaf = return_fi(plug_sv_leaf)"
   ]
  },
  {
   "cell_type": "code",
   "execution_count": 22,
   "id": "d2e5a23d",
   "metadata": {},
   "outputs": [
    {
     "name": "stdout",
     "output_type": "stream",
     "text": [
      "SHAP - TPR - std TPR - FDE - std FDR\n"
     ]
    },
    {
     "data": {
      "text/plain": [
       "(54.999999450000004, 49.74937135783728, 44.999999550000005, 49.74937135783728)"
      ]
     },
     "execution_count": 22,
     "metadata": {},
     "output_type": "execute_result"
    }
   ],
   "source": [
    "print('SHAP - TPR - std TPR - FDE - std FDR')\n",
    "\n",
    "utils.feature_performance_metric(fi_mc, fi_shap)"
   ]
  },
  {
   "cell_type": "code",
   "execution_count": 23,
   "id": "dc6b3c7e",
   "metadata": {},
   "outputs": [
    {
     "name": "stdout",
     "output_type": "stream",
     "text": [
      "Discrete - TPR - std TPR - FDE - std FDR\n"
     ]
    },
    {
     "data": {
      "text/plain": [
       "(94.79999905200003, 22.202702316177643, 5.199999948, 22.20270231617765)"
      ]
     },
     "execution_count": 23,
     "metadata": {},
     "output_type": "execute_result"
    }
   ],
   "source": [
    "print('Discrete - TPR - std TPR - FDE - std FDR')\n",
    "utils.feature_performance_metric(fi_mc, fi_plug)"
   ]
  },
  {
   "cell_type": "code",
   "execution_count": 24,
   "id": "87d3dd93",
   "metadata": {},
   "outputs": [
    {
     "name": "stdout",
     "output_type": "stream",
     "text": [
      "Leaf - TPR - std TPR - FDE - std FDR\n"
     ]
    },
    {
     "data": {
      "text/plain": [
       "(75.39999924600002, 43.06785301014204, 24.599999754000002, 43.067853010142045)"
      ]
     },
     "execution_count": 24,
     "metadata": {},
     "output_type": "execute_result"
    }
   ],
   "source": [
    "print('Leaf - TPR - std TPR - FDE - std FDR')\n",
    "utils.feature_performance_metric(fi_mc, fi_plug_leaf)"
   ]
  },
  {
   "cell_type": "markdown",
   "id": "85365bbc",
   "metadata": {},
   "source": [
    "# Error on anomaly samples"
   ]
  },
  {
   "cell_type": "code",
   "execution_count": 25,
   "id": "274661d2",
   "metadata": {},
   "outputs": [
    {
     "data": {
      "image/png": "[encoded data removed]",
      "text/plain": [
       "<Figure size 900x600 with 1 Axes>"
      ]
     },
     "metadata": {},
     "output_type": "display_data"
    }
   ],
   "source": [
    "from sklearn.ensemble import IsolationForest\n",
    "clf = IsolationForest(random_state=0).fit(data_cat_gen)\n",
    "\n",
    "ano_idx = clf.predict(data_cat_gen[:nb])\n",
    "data_ano = data_cat_gen[:nb][ano_idx == -1]\n",
    "nb_ano = np.sum(ano_idx == -1)\n",
    "\n",
    "nb_ano = np.sum(ano_idx == -1)\n",
    "idx = ano_idx==-1\n",
    "\n",
    "sample_data = np.concatenate([shap_sv[idx], plug_sv[idx], plug_sv_leaf[idx]], axis=0)\n",
    "\n",
    "shap_dataFra = pd.DataFrame(data=sample_data.squeeze())\n",
    "shap_dataFra['estimators'] = nb_ano * ['Tree SHAP'] + nb_ano * ['Discrete'] + nb_ano * ['Leaf'] \n",
    "\n",
    "err_monte_carlo = l1_norm((mc_sv[idx]- mc_sv[idx])/relative[idx])\n",
    "err_plugin = l1_norm((plug_sv[idx] - mc_sv[idx])/relative[idx])\n",
    "err_plugin_leaf = l1_norm((plug_sv_leaf[idx] - mc_sv[idx])/relative[idx])\n",
    "err_shap = l1_norm((shap_sv[idx] - mc_sv[idx])/relative[idx])\n",
    "err_concat = np.concatenate([err_shap, err_plugin, err_plugin_leaf], axis=0)\n",
    "shap_dataFra['R-MAE'] = err_concat\n",
    "\n",
    "plot = True\n",
    "if plot:\n",
    "    fig, ax = plt.subplots(dpi=150)\n",
    "    sns.boxplot(data=shap_dataFra, x='estimators', y='R-MAE')"
   ]
  },
  {
   "cell_type": "code",
   "execution_count": 26,
   "id": "c1e278ae",
   "metadata": {},
   "outputs": [
    {
     "data": {
      "text/plain": [
       "<AxesSubplot:xlabel='estimators', ylabel='R-MAE'>"
      ]
     },
     "execution_count": 26,
     "metadata": {},
     "output_type": "execute_result"
    },
    {
     "data": {
      "image/png": "[encoded data removed]",
      "text/plain": [
       "<Figure size 900x600 with 1 Axes>"
      ]
     },
     "metadata": {},
     "output_type": "display_data"
    }
   ],
   "source": [
    "fig, ax = plt.subplots(dpi=150)\n",
    "sns.barplot(data=shap_dataFra, x='estimators', y='R-MAE')"
   ]
  },
  {
   "cell_type": "code",
   "execution_count": 27,
   "id": "e21975aa",
   "metadata": {},
   "outputs": [
    {
     "name": "stdout",
     "output_type": "stream",
     "text": [
      "err_shap = 4.2734048909741125 -- err_plugin = 0.21616604339707962 - err_leaf = 0.8311104002257286\n"
     ]
    }
   ],
   "source": [
    "print('err_shap = {} -- err_plugin = {} - err_leaf = {}'.format(np.mean(err_shap), np.mean(err_plugin),\n",
    "                                                                np.mean(err_plugin_leaf)))"
   ]
  },
  {
   "cell_type": "code",
   "execution_count": 28,
   "id": "cc3b7bd1",
   "metadata": {},
   "outputs": [],
   "source": [
    "def return_fi(sv, k=1):\n",
    "    fi = np.zeros(shape=sv.shape)\n",
    "    argsort = np.argsort(sv, axis=1)\n",
    "    for i in range(argsort.shape[0]):\n",
    "        for j in range(k):\n",
    "            fi[i, argsort[i, j]] = 1 \n",
    "    return fi\n",
    "\n",
    "fi_mc = return_fi(mc_sv[idx])\n",
    "fi_shap = return_fi(shap_sv[idx])\n",
    "fi_plug = return_fi(plug_sv[idx])\n",
    "fi_plug_leaf = return_fi(plug_sv_leaf[idx])"
   ]
  },
  {
   "cell_type": "code",
   "execution_count": 29,
   "id": "54d2b7cc",
   "metadata": {},
   "outputs": [
    {
     "name": "stdout",
     "output_type": "stream",
     "text": [
      "SHAP - TPR - std TPR - FDE - std FDR\n"
     ]
    },
    {
     "data": {
      "text/plain": [
       "(0.0, 0.0, 99.99999900000002, 0.0)"
      ]
     },
     "execution_count": 29,
     "metadata": {},
     "output_type": "execute_result"
    }
   ],
   "source": [
    "print('SHAP - TPR - std TPR - FDE - std FDR')\n",
    "utils.feature_performance_metric(fi_mc, fi_shap)"
   ]
  },
  {
   "cell_type": "code",
   "execution_count": 30,
   "id": "d62ae968",
   "metadata": {},
   "outputs": [
    {
     "name": "stdout",
     "output_type": "stream",
     "text": [
      "Leaf - TPR - std TPR - FDE - std FDR\n"
     ]
    },
    {
     "data": {
      "text/plain": [
       "(99.99999900000002, 0.0, 0.0, 0.0)"
      ]
     },
     "execution_count": 30,
     "metadata": {},
     "output_type": "execute_result"
    }
   ],
   "source": [
    "print('Leaf - TPR - std TPR - FDE - std FDR')\n",
    "utils.feature_performance_metric(fi_mc, fi_plug)"
   ]
  },
  {
   "cell_type": "code",
   "execution_count": 31,
   "id": "0fbb6858",
   "metadata": {},
   "outputs": [
    {
     "name": "stdout",
     "output_type": "stream",
     "text": [
      "Leaf - TPR - std TPR - FDE - std FDR\n"
     ]
    },
    {
     "data": {
      "text/plain": [
       "(99.99999900000002, 0.0, 0.0, 0.0)"
      ]
     },
     "execution_count": 31,
     "metadata": {},
     "output_type": "execute_result"
    }
   ],
   "source": [
    "print('Leaf - TPR - std TPR - FDE - std FDR')\n",
    "utils.feature_performance_metric(fi_mc, fi_plug_leaf)"
   ]
  },
  {
   "cell_type": "markdown",
   "id": "31004d6c",
   "metadata": {},
   "source": [
    "# Error on normal samples"
   ]
  },
  {
   "cell_type": "code",
   "execution_count": 32,
   "id": "c7276560",
   "metadata": {},
   "outputs": [
    {
     "data": {
      "image/png": "[encoded data removed]",
      "text/plain": [
       "<Figure size 900x600 with 1 Axes>"
      ]
     },
     "metadata": {},
     "output_type": "display_data"
    }
   ],
   "source": [
    "from sklearn.ensemble import IsolationForest\n",
    "clf = IsolationForest(random_state=0).fit(data_cat_gen)\n",
    "\n",
    "\n",
    "nb_ano = np.sum(ano_idx == 1)\n",
    "idx = ano_idx==1\n",
    "\n",
    "sample_data = np.concatenate([shap_sv[idx], plug_sv[idx], plug_sv_leaf[idx]], axis=0)\n",
    "\n",
    "shap_dataFra = pd.DataFrame(data=sample_data.squeeze())\n",
    "shap_dataFra['estimators'] = nb_ano * ['Tree SHAP'] + nb_ano * ['Discrete'] + nb_ano * ['Leaf'] \n",
    "\n",
    "err_monte_carlo = l1_norm((mc_sv[idx]- mc_sv[idx])/relative[idx])\n",
    "err_plugin = l1_norm((plug_sv[idx] - mc_sv[idx])/relative[idx])\n",
    "err_plugin_leaf = l1_norm((plug_sv_leaf[idx] - mc_sv[idx])/relative[idx])\n",
    "err_shap = l1_norm((shap_sv[idx] - mc_sv[idx])/relative[idx])\n",
    "err_concat = np.concatenate([err_shap, err_plugin, err_plugin_leaf], axis=0)\n",
    "shap_dataFra['R-MAE'] = err_concat\n",
    "\n",
    "plot = True\n",
    "if plot:\n",
    "    fig, ax = plt.subplots(dpi=150)\n",
    "    sns.boxplot(data=shap_dataFra, x='estimators', y='R-MAE')"
   ]
  },
  {
   "cell_type": "code",
   "execution_count": 33,
   "id": "7438bac7",
   "metadata": {},
   "outputs": [
    {
     "data": {
      "text/plain": [
       "<AxesSubplot:xlabel='estimators', ylabel='R-MAE'>"
      ]
     },
     "execution_count": 33,
     "metadata": {},
     "output_type": "execute_result"
    },
    {
     "data": {
      "image/png": "[encoded data removed]",
      "text/plain": [
       "<Figure size 900x600 with 1 Axes>"
      ]
     },
     "metadata": {},
     "output_type": "display_data"
    }
   ],
   "source": [
    "fig, ax = plt.subplots(dpi=150)\n",
    "sns.barplot(data=shap_dataFra, x='estimators', y='R-MAE')"
   ]
  },
  {
   "cell_type": "code",
   "execution_count": 34,
   "id": "ea57da65",
   "metadata": {},
   "outputs": [
    {
     "name": "stdout",
     "output_type": "stream",
     "text": [
      "err_shap = 2.92504575988993 -- err_plugin = 0.20674344210256326 - err_leaf = 0.9542880049825795\n"
     ]
    }
   ],
   "source": [
    "print('err_shap = {} -- err_plugin = {} - err_leaf = {}'.format(np.mean(err_shap), np.mean(err_plugin),\n",
    "                                                                np.mean(err_plugin_leaf)))"
   ]
  },
  {
   "cell_type": "code",
   "execution_count": 35,
   "id": "24bbc613",
   "metadata": {},
   "outputs": [],
   "source": [
    "def return_fi(sv, k=1):\n",
    "    fi = np.zeros(shape=sv.shape)\n",
    "    argsort = np.argsort(sv, axis=1)\n",
    "    for i in range(argsort.shape[0]):\n",
    "        for j in range(k):\n",
    "            fi[i, argsort[i, j]] = 1 \n",
    "    return fi\n",
    "\n",
    "fi_mc = return_fi(mc_sv[idx])\n",
    "fi_shap = return_fi(shap_sv[idx])\n",
    "fi_plug = return_fi(plug_sv[idx])\n",
    "fi_plug_leaf = return_fi(plug_sv_leaf[idx])"
   ]
  },
  {
   "cell_type": "code",
   "execution_count": 36,
   "id": "8283c812",
   "metadata": {},
   "outputs": [
    {
     "name": "stdout",
     "output_type": "stream",
     "text": [
      "SHAP - TPR - std TPR - FDE - std FDR\n"
     ]
    },
    {
     "data": {
      "text/plain": [
       "(55.110219889779565, 49.73817042843336, 44.88977911022045, 49.73817042843336)"
      ]
     },
     "execution_count": 36,
     "metadata": {},
     "output_type": "execute_result"
    }
   ],
   "source": [
    "print('SHAP - TPR - std TPR - FDE - std FDR')\n",
    "utils.feature_performance_metric(fi_mc, fi_shap)"
   ]
  },
  {
   "cell_type": "code",
   "execution_count": 37,
   "id": "ccb98e71",
   "metadata": {},
   "outputs": [
    {
     "name": "stdout",
     "output_type": "stream",
     "text": [
      "Leaf - TPR - std TPR - FDE - std FDR\n"
     ]
    },
    {
     "data": {
      "text/plain": [
       "(94.78957821042087, 22.223716812068506, 5.2104207895791586, 22.22371681206851)"
      ]
     },
     "execution_count": 37,
     "metadata": {},
     "output_type": "execute_result"
    }
   ],
   "source": [
    "print('Leaf - TPR - std TPR - FDE - std FDR')\n",
    "utils.feature_performance_metric(fi_mc, fi_plug)"
   ]
  },
  {
   "cell_type": "code",
   "execution_count": 38,
   "id": "307dcfcf",
   "metadata": {},
   "outputs": [
    {
     "name": "stdout",
     "output_type": "stream",
     "text": [
      "Leaf - TPR - std TPR - FDE - std FDR\n"
     ]
    },
    {
     "data": {
      "text/plain": [
       "(75.3507006492986, 43.09688969332882, 24.649298350701407, 43.09688969332881)"
      ]
     },
     "execution_count": 38,
     "metadata": {},
     "output_type": "execute_result"
    }
   ],
   "source": [
    "print('Leaf - TPR - std TPR - FDE - std FDR')\n",
    "utils.feature_performance_metric(fi_mc, fi_plug_leaf)"
   ]
  },
  {
   "cell_type": "markdown",
   "id": "189c435c",
   "metadata": {},
   "source": [
    "# Error on uniform samples"
   ]
  },
  {
   "cell_type": "code",
   "execution_count": 39,
   "id": "a8b038d4",
   "metadata": {},
   "outputs": [],
   "source": [
    "n_gen = 50000\n",
    "\n",
    "columns_name = ['X{}'.format(i) for i in range(d)]\n",
    "data_unif =  np.random.uniform(low=-10, high=10, size=n_gen*d)\n",
    "data_unif = data_unif.reshape((n_gen, d))\n",
    "data_unif = pd.DataFrame(data_unif, columns=columns_name)\n",
    "\n",
    "\n",
    "data_cat_unif = quantile_discretizer_byq(data_unif, [], q_values)\n",
    "data_cat_unif.columns = data_cat.columns"
   ]
  },
  {
   "cell_type": "code",
   "execution_count": 40,
   "id": "31055e6c",
   "metadata": {},
   "outputs": [
    {
     "name": "stderr",
     "output_type": "stream",
     "text": [
      "100%|██████████| 3/3 [00:14<00:00,  4.68s/it]\n"
     ]
    }
   ],
   "source": [
    "plug_sv = acvtree_cat.py_shap_values_discrete_notoptimized(data_cat_unif.values.astype(float)[:nb], C=C, data=data_cat.values.astype(float))"
   ]
  },
  {
   "cell_type": "code",
   "execution_count": 41,
   "id": "8278b0f3",
   "metadata": {},
   "outputs": [
    {
     "name": "stderr",
     "output_type": "stream",
     "text": [
      "100%|██████████| 3/3 [00:00<00:00, 13.27it/s]\n"
     ]
    }
   ],
   "source": [
    "plug_sv_leaf = acvtree_cat.py_shap_values_notoptimized(data_cat_unif.values.astype(float)[:nb], C=C, data=data_cat.values.astype(float))"
   ]
  },
  {
   "cell_type": "code",
   "execution_count": 42,
   "id": "aa560766",
   "metadata": {},
   "outputs": [
    {
     "name": "stderr",
     "output_type": "stream",
     "text": [
      "100%|██████████| 3/3 [02:43<00:00, 54.67s/it]\n"
     ]
    }
   ],
   "source": [
    "q_arr = np.array(list(q_values.values()))\n",
    "mc_sv = tree_sv_exact_discretized(data_cat_unif.values.astype(float)[:nb], acvtree_cat, q_arr, q_values, C, mean, cov, N=1000000)"
   ]
  },
  {
   "cell_type": "code",
   "execution_count": 43,
   "id": "6774a1a6",
   "metadata": {},
   "outputs": [
    {
     "name": "stderr",
     "output_type": "stream",
     "text": [
      "100%|██████████| 3/3 [00:03<00:00,  1.26s/it]\n"
     ]
    }
   ],
   "source": [
    "shap_sv = tree_shap_cat(X=data_cat_unif.values.astype(float)[:nb], C=C, tree=acvtree_cat)"
   ]
  },
  {
   "cell_type": "code",
   "execution_count": 44,
   "id": "1d1f1043",
   "metadata": {},
   "outputs": [
    {
     "data": {
      "image/png": "[encoded data removed]",
      "text/plain": [
       "<Figure size 900x600 with 1 Axes>"
      ]
     },
     "metadata": {},
     "output_type": "display_data"
    }
   ],
   "source": [
    "plug_sv = plug_sv.squeeze()\n",
    "plug_sv_leaf = plug_sv_leaf.squeeze()\n",
    "shap_sv = shap_sv.squeeze()\n",
    "mc_sv = mc_sv.squeeze()\n",
    "plug_sv_r = np.zeros(shape=mc_sv.shape)\n",
    "shap_sv_r = np.zeros(shape=mc_sv.shape)\n",
    "plug_sv_leaf_r = np.zeros(shape=mc_sv.shape)\n",
    "for i in range(d):\n",
    "    plug_sv_r[:, i] = plug_sv[:, C[i][0]]\n",
    "    shap_sv_r[:, i] = shap_sv[:, C[i][0]]\n",
    "    plug_sv_leaf_r[:, i] = plug_sv_leaf[:, C[i][0]]\n",
    "\n",
    "sample_data = np.concatenate([shap_sv_r, plug_sv_r, plug_sv_leaf_r], axis=0)\n",
    "\n",
    "shap_dataFra = pd.DataFrame(data=sample_data.squeeze())\n",
    "shap_dataFra['estimators'] = nb * ['Tree SHAP'] + nb * ['Discrete'] + nb * ['Leaf']\n",
    "\n",
    "relative = np.zeros(shape=mc_sv.shape)\n",
    "for i in range(mc_sv.shape[0]):\n",
    "    for j in range(mc_sv.shape[1]):\n",
    "        if np.abs(mc_sv[i, j]) < 1:\n",
    "            relative[i, j] = 1\n",
    "        else:\n",
    "            relative[i, j] = mc_sv[i, j]\n",
    "            \n",
    "err_monte_carlo = l1_norm((mc_sv- mc_sv)/relative)\n",
    "err_plugin = l1_norm((plug_sv_r - mc_sv)/relative)\n",
    "err_shap = l1_norm((shap_sv_r - mc_sv)/relative)\n",
    "err_plugin_leaf = l1_norm((plug_sv_leaf_r - mc_sv)/relative)\n",
    "err_concat = np.concatenate([err_shap, err_plugin, err_plugin_leaf], axis=0)\n",
    "shap_dataFra['R-MAE'] = err_concat\n",
    "\n",
    "plot = True\n",
    "if plot:\n",
    "    fig, ax = plt.subplots(dpi=150)\n",
    "    sns.boxplot(data=shap_dataFra, x='estimators', y='R-MAE')"
   ]
  },
  {
   "cell_type": "code",
   "execution_count": 45,
   "id": "597214aa",
   "metadata": {},
   "outputs": [
    {
     "data": {
      "text/plain": [
       "(1500, 5)"
      ]
     },
     "execution_count": 45,
     "metadata": {},
     "output_type": "execute_result"
    }
   ],
   "source": [
    "shap_dataFra.replace([np.inf, -np.inf], np.nan, inplace=True)\n",
    "shap_dataFra.dropna(axis=0, inplace=True)\n",
    "shap_dataFra.shape"
   ]
  },
  {
   "cell_type": "code",
   "execution_count": 46,
   "id": "eabe4e81",
   "metadata": {},
   "outputs": [
    {
     "data": {
      "text/plain": [
       "<AxesSubplot:xlabel='estimators', ylabel='R-MAE'>"
      ]
     },
     "execution_count": 46,
     "metadata": {},
     "output_type": "execute_result"
    },
    {
     "data": {
      "image/png": "[encoded data removed]",
      "text/plain": [
       "<Figure size 900x600 with 1 Axes>"
      ]
     },
     "metadata": {},
     "output_type": "display_data"
    }
   ],
   "source": [
    "fig, ax = plt.subplots(dpi=150)\n",
    "sns.barplot(data=shap_dataFra, x='estimators', y='R-MAE')"
   ]
  },
  {
   "cell_type": "code",
   "execution_count": 47,
   "id": "b67d43b2",
   "metadata": {},
   "outputs": [
    {
     "name": "stdout",
     "output_type": "stream",
     "text": [
      "err_shap = 2.958397270015674 -- err_plugin = 2.995507123297602 - err_leaf = 2.6537795569148575\n"
     ]
    }
   ],
   "source": [
    "print('err_shap = {} -- err_plugin = {} - err_leaf = {}'.format(np.mean(err_shap), np.mean(err_plugin),\n",
    "                                                                np.mean(err_plugin_leaf)))"
   ]
  },
  {
   "cell_type": "code",
   "execution_count": 48,
   "id": "8cb9764c",
   "metadata": {},
   "outputs": [],
   "source": [
    "from experiments import utils\n",
    "\n",
    "mc_sv = mc_sv.squeeze()\n",
    "shap_sv = shap_sv_r.squeeze()\n",
    "plug_sv = plug_sv_r.squeeze()\n",
    "plug_sv_leaf = plug_sv_leaf_r.squeeze()\n",
    "\n",
    "def return_fi(sv, k=1):\n",
    "    fi = np.zeros(shape=sv.shape)\n",
    "    argsort = np.argsort(sv, axis=1)\n",
    "    for i in range(argsort.shape[0]):\n",
    "        for j in range(k):\n",
    "            fi[i, argsort[i, j]] = 1 \n",
    "    return fi\n",
    "\n",
    "fi_mc = return_fi(mc_sv)\n",
    "fi_shap = return_fi(shap_sv)\n",
    "fi_plug = return_fi(plug_sv)\n",
    "fi_plug_leaf = return_fi(plug_sv_leaf)"
   ]
  },
  {
   "cell_type": "code",
   "execution_count": 49,
   "id": "d2e5a23d",
   "metadata": {},
   "outputs": [
    {
     "name": "stdout",
     "output_type": "stream",
     "text": [
      "SHAP - TPR - std TPR - FDE - std FDR\n"
     ]
    },
    {
     "data": {
      "text/plain": [
       "(29.799999702000008, 45.737948775177934, 70.19999929800001, 45.737948775177934)"
      ]
     },
     "execution_count": 49,
     "metadata": {},
     "output_type": "execute_result"
    }
   ],
   "source": [
    "print('SHAP - TPR - std TPR - FDE - std FDR')\n",
    "\n",
    "utils.feature_performance_metric(fi_mc, fi_shap)"
   ]
  },
  {
   "cell_type": "code",
   "execution_count": 50,
   "id": "dc6b3c7e",
   "metadata": {},
   "outputs": [
    {
     "name": "stdout",
     "output_type": "stream",
     "text": [
      "Discrete - TPR - std TPR - FDE - std FDR\n"
     ]
    },
    {
     "data": {
      "text/plain": [
       "(65.799999342, 47.43795900956112, 34.199999658, 47.43795900956111)"
      ]
     },
     "execution_count": 50,
     "metadata": {},
     "output_type": "execute_result"
    }
   ],
   "source": [
    "print('Discrete - TPR - std TPR - FDE - std FDR')\n",
    "utils.feature_performance_metric(fi_mc, fi_plug)"
   ]
  },
  {
   "cell_type": "code",
   "execution_count": 51,
   "id": "87d3dd93",
   "metadata": {},
   "outputs": [
    {
     "name": "stdout",
     "output_type": "stream",
     "text": [
      "Leaf - TPR - std TPR - FDE - std FDR\n"
     ]
    },
    {
     "data": {
      "text/plain": [
       "(36.999999630000005, 48.28043033548895, 62.99999937000001, 48.28043033548895)"
      ]
     },
     "execution_count": 51,
     "metadata": {},
     "output_type": "execute_result"
    }
   ],
   "source": [
    "print('Leaf - TPR - std TPR - FDE - std FDR')\n",
    "utils.feature_performance_metric(fi_mc, fi_plug_leaf)"
   ]
  }
 ],
 "metadata": {
  "kernelspec": {
   "display_name": "Python 3",
   "language": "python",
   "name": "python3"
  },
  "language_info": {
   "codemirror_mode": {
    "name": "ipython",
    "version": 3
   },
   "file_extension": ".py",
   "mimetype": "text/x-python",
   "name": "python",
   "nbconvert_exporter": "python",
   "pygments_lexer": "ipython3",
   "version": "3.6.13"
  }
 },
 "nbformat": 4,
 "nbformat_minor": 5
}
